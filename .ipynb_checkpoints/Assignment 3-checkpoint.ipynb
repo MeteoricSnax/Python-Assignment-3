{
 "cells": [
  {
   "cell_type": "markdown",
   "metadata": {},
   "source": [
    "## Assingment 3 fra the python bois\n"
   ]
  },
  {
   "cell_type": "markdown",
   "metadata": {},
   "source": [
    "2. create a function to read the csv file containing Copenhagen city population data and return a numpy array (numpy.ndarray). hint: use np.genfromtxt(filename, delimiter=',', dtype=np.uint, skip_header=1) as in the slides"
   ]
  },
  {
   "cell_type": "code",
   "execution_count": 5,
   "metadata": {},
   "outputs": [
    {
     "name": "stdout",
     "output_type": "stream",
     "text": [
      "[[2015    1    0 5100  614]\n",
      " [2015    1    0 5104    2]\n",
      " [2015    1    0 5106    1]\n",
      " ...\n",
      " [1992   99   89 5100    1]\n",
      " [1992   99   90 5180    1]\n",
      " [1992   99   93 5100    1]]\n"
     ]
    }
   ],
   "source": [
    "import numpy as np\n",
    "pop_array = np.genfromtxt('befkbhalderstatkode.csv', delimiter=',', dtype=np.uint, skip_header=1)\n",
    "print(pop_array)"
   ]
  },
  {
   "cell_type": "markdown",
   "metadata": {},
   "source": [
    "3. create a function that can extract the number of all the citizens from native english speaking countries and from non english speaking countries.\n",
    "How many are there of each? (hint remember that with python you can return multiple values from a function)."
   ]
  },
  {
   "cell_type": "code",
   "execution_count": 37,
   "metadata": {},
   "outputs": [],
   "source": [
    "def speaking_a_language(dd, mask, n=None):\n",
    "    if n:\n",
    "        all_people_speaking = dd[mask & (dd[:,3] == n)]\n",
    "    else:\n",
    "        all_people_speaking = dd[mask]\n",
    "    \n",
    "    sum_of_people = all_people_speaking[:,4].sum()\n",
    "    return sum_of_people\n",
    "\n",
    "def get_english_and_non_speakers(dd_in):\n",
    "    dd = dd_in\n",
    "    english_speaking_country = {1: 5314, 2: 5390, 3: 5502, 4: 5514, 5: 5170, 6: 5142}\n",
    "    mask = ((dd[:,0]== 2015))\n",
    "    english = np.array([speaking_a_language(dd_in, mask, statecode)for statecode in english_speaking_country.values()])\n",
    "    print(str(english.sum())+\" people form english speaking country\")\n",
    "    print(str( speaking_a_language(dd_in, mask)- english.sum())+\" from non speaking country\")"
   ]
  },
  {
   "cell_type": "code",
   "execution_count": 38,
   "metadata": {},
   "outputs": [
    {
     "name": "stdout",
     "output_type": "stream",
     "text": [
      "8979 people form english speaking country\n",
      "571316 from non speaking country\n"
     ]
    }
   ],
   "source": [
    "get_english_and_non_speakers(pop_array)"
   ]
  },
  {
   "cell_type": "markdown",
   "metadata": {},
   "source": [
    "4. Now create another function that can take 2 arguments:\n",
    "\n",
    " - 1: the dataset in the form of a 2dimensional data array where y=data rows and x=[year, area, age nationality, amount].\n",
    "\n",
    " - 2: the mask in the form: data[:,3] == 5120 to find swedish or data[:,0] == 1999 to filter on year\n",
    "\n",
    " - 3:the return value must be the filtered dataset."
   ]
  },
  {
   "cell_type": "code",
   "execution_count": 46,
   "metadata": {},
   "outputs": [],
   "source": [
    "def get_population_from_mask(pop_array, mask):\n",
    "    population = pop_array[mask]\n",
    "    return population[:,4].sum()"
   ]
  },
  {
   "cell_type": "code",
   "execution_count": 48,
   "metadata": {},
   "outputs": [
    {
     "name": "stdout",
     "output_type": "stream",
     "text": [
      "491082\n"
     ]
    }
   ],
   "source": [
    "mask = (pop_array[:,0] == 1999)\n",
    "print(get_population_from_mask(pop_array, mask))\n",
    "\n",
    "\n",
    "\n",
    "#statecode2 = {1: 5160, 2: 5170, 3: 5120, 4: 5130}\n",
    "#swedish = np.array([speaking_a_language(mask,statecode)for statecode in statecode2.values()])\n",
    "#print(swedish.sum())\n"
   ]
  },
  {
   "cell_type": "markdown",
   "metadata": {},
   "source": [
    "5. Create another function that can take 2 arguments:\n",
    "\n",
    " - a dataset with same characteristics as above and\n",
    "\n",
    " - a value for the x-axis (either year, area, age or nationality)\n",
    "\n",
    " - return value should be the accumulated population for all x-values.\n",
    "\n",
    " - hint: if year is chosen for x then y is all accumulated amounts from all areas, ages and nationalities."
   ]
  },
  {
   "cell_type": "code",
   "execution_count": 49,
   "metadata": {},
   "outputs": [
    {
     "name": "stdout",
     "output_type": "stream",
     "text": [
      "[[2015    1    0 5100  614]\n",
      " [2015    1    0 5104    2]\n",
      " [2015    1    0 5106    1]\n",
      " ...\n",
      " [2015   99   82 5100    1]\n",
      " [2015   99   86 5289    1]\n",
      " [2015   99   90 5289    1]]\n"
     ]
    },
    {
     "data": {
      "text/plain": [
       "580295"
      ]
     },
     "execution_count": 49,
     "metadata": {},
     "output_type": "execute_result"
    }
   ],
   "source": [
    "def get_population_from_year(look_up_list, year):\n",
    "    population = look_up_list[(look_up_list[:,0] == year)]\n",
    "    print(population)\n",
    "    return population[:,4].sum()\n",
    "get_population_from_year(pop_array, 2015)"
   ]
  },
  {
   "cell_type": "markdown",
   "metadata": {},
   "source": [
    "6. Create Illustration 1: In your notebook use the above function and create a 2d array of year as x and accumulated amount as y:\n",
    "  - create a line graph of the population change over time for all of Copenhagen"
   ]
  },
  {
   "cell_type": "code",
   "execution_count": 50,
   "metadata": {},
   "outputs": [],
   "source": [
    "def x_values_sum(data , column_name_number):\n",
    "    a_data_dict ={}\n",
    "   # for year in data[:,column_name_number]:\n",
    "    for year in np.unique(data[:,column_name_number]):\n",
    "        mask = (data[:,0]==year)\n",
    "        a_data_dict[year] = sum(data[mask][:,4])\n",
    "    return a_data_dict"
   ]
  },
  {
   "cell_type": "code",
   "execution_count": 53,
   "metadata": {},
   "outputs": [
    {
     "data": {
      "image/png": "[encoded data removed]",
      "text/plain": [
       "<Figure size 432x288 with 1 Axes>"
      ]
     },
     "metadata": {
      "needs_background": "light"
     },
     "output_type": "display_data"
    }
   ],
   "source": [
    "import matplotlib.pyplot as plt\n",
    "dic = x_values_sum(pop_array,0)\n",
    "title = \"population over time\"\n",
    "plt.title(title, fontsize=12)\n",
    "plt.plot(dic.keys(),dic.values())\n",
    "plt.show()\n"
   ]
  },
  {
   "cell_type": "markdown",
   "metadata": {},
   "source": [
    "7. Create illustration 2: In your notebook use your module to create a dataset where development of all German citizens can be shown over time"
   ]
  },
  {
   "cell_type": "code",
   "execution_count": 56,
   "metadata": {},
   "outputs": [
    {
     "data": {
      "text/plain": [
       "<function matplotlib.pyplot.show(*args, **kw)>"
      ]
     },
     "execution_count": 56,
     "metadata": {},
     "output_type": "execute_result"
    },
    {
     "data": {
      "image/png": "[encoded data removed]",
      "text/plain": [
       "<Figure size 432x288 with 1 Axes>"
      ]
     },
     "metadata": {
      "needs_background": "light"
     },
     "output_type": "display_data"
    }
   ],
   "source": [
    "ger_mask = pop_array[:,3]== 5180\n",
    "ger_dataset = pop_array[ger_mask]\n",
    "ger_dic = x_values_sum(ger_dataset,0)\n",
    "title = \"German citizens can be shown over time\"\n",
    "plt.title(title, fontsize=12)\n",
    "plt.plot(ger_dic.keys(),ger_dic.values())\n",
    "plt.show"
   ]
  },
  {
   "cell_type": "markdown",
   "metadata": {},
   "source": [
    "8. Create illustration 3: Show a bar plot of all the 18-25 year old in the different areas of copenhagen and in the same plot show (in a different color) all 60-67 year old in the different areas."
   ]
  },
  {
   "cell_type": "code",
   "execution_count": null,
   "metadata": {},
   "outputs": [],
   "source": []
  },
  {
   "cell_type": "markdown",
   "metadata": {},
   "source": [
    "9. Create illustration 4: show a pie chart of age groups (0-10, 10-20, 20-30 ...) in Østerbro part of Copenhagen. create another similar piechart for Vesterbro."
   ]
  },
  {
   "cell_type": "code",
   "execution_count": null,
   "metadata": {},
   "outputs": [],
   "source": []
  }
 ],
 "metadata": {
  "kernelspec": {
   "display_name": "Python 3",
   "language": "python",
   "name": "python3"
  },
  "language_info": {
   "codemirror_mode": {
    "name": "ipython",
    "version": 3
   },
   "file_extension": ".py",
   "mimetype": "text/x-python",
   "name": "python",
   "nbconvert_exporter": "python",
   "pygments_lexer": "ipython3",
   "version": "3.7.1"
  }
 },
 "nbformat": 4,
 "nbformat_minor": 2
}
