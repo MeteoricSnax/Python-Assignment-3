{
 "cells": [
  {
   "cell_type": "markdown",
   "metadata": {},
   "source": [
    "## Assingment 3 fra the python bois\n"
   ]
  },
  {
   "cell_type": "markdown",
   "metadata": {},
   "source": [
    "2. create a function to read the csv file containing Copenhagen city population data and return a numpy array (numpy.ndarray). hint: use np.genfromtxt(filename, delimiter=',', dtype=np.uint, skip_header=1) as in the slides"
   ]
  },
  {
   "cell_type": "code",
   "execution_count": 1,
   "metadata": {},
   "outputs": [
    {
     "name": "stdout",
     "output_type": "stream",
     "text": [
      "[[2015    1    0 5100  614]\n",
      " [2015    1    0 5104    2]\n",
      " [2015    1    0 5106    1]\n",
      " ...\n",
      " [1992   99   89 5100    1]\n",
      " [1992   99   90 5180    1]\n",
      " [1992   99   93 5100    1]]\n"
     ]
    }
   ],
   "source": [
    "import numpy as np\n",
    "pop_array = np.genfromtxt('befkbhalderstatkode.csv', delimiter=',', dtype=np.uint, skip_header=1)\n",
    "print(pop_array)"
   ]
  },
  {
   "cell_type": "markdown",
   "metadata": {},
   "source": [
    "3. create a function that can extract the number of all the citizens from native english speaking countries and from non english speaking countries.\n",
    "How many are there of each? (hint remember that with python you can return multiple values from a function)."
   ]
  },
  {
   "cell_type": "code",
   "execution_count": 31,
   "metadata": {},
   "outputs": [],
   "source": [
    "def get_population_of_english_and_nonenglish_speaking(look_up_list, year):\n",
    "    english_speaking = [5314, 5390, 5502, 5514, 5170, 5142]\n",
    "    \n",
    "    print('nr 1 er befolkningstallet for australien, canada, irland, new zealand, storbritannien og usa. nr 2 er resten af verdenen')\n",
    "    \n",
    "    population_of_englishspeakers = []\n",
    "    \n",
    "    for i in range(len(english_speaking)):\n",
    "        \n",
    "        population_of_englishspeakers = look_up_list[np.where((look_up_list[:,3] == english_speaking[i]) & (look_up_list[:,0] == year))]    \n",
    "    \n",
    "    population_of_nonenglishspeakers = []\n",
    "          \n",
    "    population_of_nonenglishspeakers = look_up_list[(look_up_list[:,0] == year) & (look_up_list[:,3] != english_speaking)]\n",
    "    \n",
    "    sum_of_englishspeakers = population_of_englishspeakers[:,4].sum()\n",
    "    \n",
    "    sum_of_nonenglishspeakers = population_of_nonenglishspeakers[:,4].sum()\n",
    "    \n",
    "    return sum_of_englishspeakers, sum_of_nonenglishspeakers"
   ]
  },
  {
   "cell_type": "code",
   "execution_count": 32,
   "metadata": {},
   "outputs": [
    {
     "name": "stdout",
     "output_type": "stream",
     "text": [
      "nr 1 er befolkningstallet for australien, canada, irland, new zealand, storbritannien og usa. nr 2 er resten af verdenen\n",
      "pop1 is english speakers and pop2 is non-english speakers.\n",
      "565\n",
      "580295\n"
     ]
    },
    {
     "name": "stderr",
     "output_type": "stream",
     "text": [
      "C:\\Users\\Snax\\Anaconda3\\lib\\site-packages\\ipykernel_launcher.py:14: DeprecationWarning: elementwise != comparison failed; this will raise an error in the future.\n",
      "  \n"
     ]
    }
   ],
   "source": [
    "#pop_array = np.genfromtxt('befkbhalderstatkode.csv', delimiter=',', dtype=np.uint, skip_header=1)\n",
    "pop1, pop2 = get_population_of_english_and_nonenglish_speaking(pop_array, 2015)\n",
    "print(\"pop1 is english speakers and pop2 is non-english speakers.\")\n",
    "print(pop1)\n",
    "print(pop2)\n"
   ]
  },
  {
   "cell_type": "markdown",
   "metadata": {},
   "source": [
    "4. Now create another function that can take 2 arguments:\n",
    "\n",
    " - 1: the dataset in the form of a 2dimensional data array where y=data rows and x=[year, area, age nationality, amount].\n",
    "\n",
    " - 2: the mask in the form: data[:,3] == 5120 to find swedish or data[:,0] == 1999 to filter on year\n",
    "\n",
    " - 3:the return value must be the filtered dataset."
   ]
  },
  {
   "cell_type": "code",
   "execution_count": 34,
   "metadata": {},
   "outputs": [],
   "source": [
    "def get_population(look_up_list, land_code, year):\n",
    "    population = 0\n",
    "    for i in range(len(land_code)):\n",
    "        population = look_up_list[(look_up_list[:,3] == land_code[i]) & (look_up_list[:,0] == year)]\n",
    "        \n",
    "    return population[:,4].sum()"
   ]
  },
  {
   "cell_type": "code",
   "execution_count": 35,
   "metadata": {},
   "outputs": [
    {
     "name": "stdout",
     "output_type": "stream",
     "text": [
      "2156\n"
     ]
    }
   ],
   "source": [
    "lands = [5160, 5170, 5120, 5130]\n",
    "print(get_population(pop_array, lands, 2015))\n"
   ]
  },
  {
   "cell_type": "markdown",
   "metadata": {},
   "source": [
    "5. Create another function that can take 2 arguments:\n",
    "\n",
    " - a dataset with same characteristics as above and\n",
    "\n",
    " - a value for the x-axis (either year, area, age or nationality)\n",
    "\n",
    " - return value should be the accumulated population for all x-values.\n",
    "\n",
    " - hint: if year is chosen for x then y is all accumulated amounts from all areas, ages and nationalities."
   ]
  },
  {
   "cell_type": "code",
   "execution_count": 30,
   "metadata": {},
   "outputs": [
    {
     "name": "stdout",
     "output_type": "stream",
     "text": [
      "[[2015    1    0 5100  614]\n",
      " [2015    1    0 5104    2]\n",
      " [2015    1    0 5106    1]\n",
      " ...\n",
      " [2015   99   82 5100    1]\n",
      " [2015   99   86 5289    1]\n",
      " [2015   99   90 5289    1]]\n"
     ]
    },
    {
     "data": {
      "text/plain": [
       "580295"
      ]
     },
     "execution_count": 30,
     "metadata": {},
     "output_type": "execute_result"
    }
   ],
   "source": [
    "def get_population_from_year(look_up_list, year):\n",
    "    population = look_up_list[(look_up_list[:,0] == year)]\n",
    "    print(population)\n",
    "    return population[:,4].sum()\n",
    "get_population_from_year(pop_array, 2015)"
   ]
  },
  {
   "cell_type": "markdown",
   "metadata": {},
   "source": [
    "6. Create Illustration 1: In your notebook use the above function and create a 2d array of year as x and accumulated amount as y:\n",
    "  - create a line graph of the population change over time for all of Copenhagen"
   ]
  },
  {
   "cell_type": "code",
   "execution_count": null,
   "metadata": {},
   "outputs": [],
   "source": []
  },
  {
   "cell_type": "markdown",
   "metadata": {},
   "source": [
    "7. Create illustration 2: In your notebook use your module to create a dataset where development of all German citizens can be shown over time"
   ]
  },
  {
   "cell_type": "code",
   "execution_count": null,
   "metadata": {},
   "outputs": [],
   "source": []
  },
  {
   "cell_type": "markdown",
   "metadata": {},
   "source": [
    "8. Create illustration 3: Show a bar plot of all the 18-25 year old in the different areas of copenhagen and in the same plot show (in a different color) all 60-67 year old in the different areas."
   ]
  },
  {
   "cell_type": "code",
   "execution_count": null,
   "metadata": {},
   "outputs": [],
   "source": []
  },
  {
   "cell_type": "markdown",
   "metadata": {},
   "source": [
    "9. Create illustration 4: show a pie chart of age groups (0-10, 10-20, 20-30 ...) in Østerbro part of Copenhagen. create another similar piechart for Vesterbro."
   ]
  },
  {
   "cell_type": "code",
   "execution_count": null,
   "metadata": {},
   "outputs": [],
   "source": []
  }
 ],
 "metadata": {
  "kernelspec": {
   "display_name": "Python 3",
   "language": "python",
   "name": "python3"
  },
  "language_info": {
   "codemirror_mode": {
    "name": "ipython",
    "version": 3
   },
   "file_extension": ".py",
   "mimetype": "text/x-python",
   "name": "python",
   "nbconvert_exporter": "python",
   "pygments_lexer": "ipython3",
   "version": "3.7.1"
  }
 },
 "nbformat": 4,
 "nbformat_minor": 2
}
